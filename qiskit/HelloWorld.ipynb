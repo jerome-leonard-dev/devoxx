{
 "cells": [
  {
   "cell_type": "markdown",
   "metadata": {},
   "source": [
    "### Initialisation un circuit quantique\n",
    "- 1 registre de 2 qubits pour les calculs\n",
    "- 1 registre de 2 bits classiques pour la mesure des résultats\n",
    "- 1 circuit\n",
    "- 1 mesure des 2 Qubits"
   ]
  },
  {
   "cell_type": "code",
   "execution_count": null,
   "metadata": {},
   "outputs": [],
   "source": [
    "from qiskit import QuantumRegister, ClassicalRegister, QuantumCircuit\n",
    "\n",
    "qubits = QuantumRegister(2)\n",
    "mesure = ClassicalRegister(2)\n",
    "circuit = QuantumCircuit(qubits, mesure)\n",
    "\n",
    "circuit.measure(qubits, mesure)\n",
    "\n",
    "circuit.draw(\"mpl\")"
   ]
  },
  {
   "cell_type": "markdown",
   "metadata": {},
   "source": [
    "### Lançons une **simulation**"
   ]
  },
  {
   "cell_type": "code",
   "execution_count": null,
   "metadata": {},
   "outputs": [],
   "source": [
    "from qiskit_aer import Aer\n",
    "from qiskit_ibm_runtime import SamplerV2\n",
    "from qiskit import transpile\n",
    "from qiskit.visualization import plot_histogram\n",
    "\n",
    "simulateur = Aer.get_backend(\"qasm_simulator\")\n",
    "\n",
    "def launch(backend, circuit):\n",
    "    sampler = SamplerV2(mode=backend)\n",
    "    transpiled_circuit = transpile(circuit, backend)\n",
    "    job = sampler.run([transpiled_circuit])\n",
    "    job_results = job.result()[0].data.c0.get_counts()\n",
    "    print(job_results)\n",
    "    return job_results"
   ]
  },
  {
   "cell_type": "code",
   "execution_count": null,
   "metadata": {},
   "outputs": [],
   "source": [
    "plot_histogram( launch(simulateur, circuit))"
   ]
  },
  {
   "cell_type": "markdown",
   "metadata": {},
   "source": [
    "Le calcul est lancé 1024 fois, c'est la valeur par defaut sur le simulateur pour voir différents états de superposition.<br>\n",
    "Ici le résultat est toujours 00, par défaut les Qubits on une probabilité de 100% d'être lus à 0\n",
    "\n",
    "#### On améliore un peu le circuit et on relance\n",
    "- 1 porte Hadamard pour mettre de la superposition\n",
    "- 1 port Pauli X (Not)"
   ]
  },
  {
   "cell_type": "code",
   "execution_count": null,
   "metadata": {},
   "outputs": [],
   "source": [
    "circuit.clear()\n",
    "circuit.h(qubits[0])\n",
    "circuit.x(qubits[1])\n",
    "circuit.measure(qubits, mesure)\n",
    "circuit.draw(\"mpl\")"
   ]
  },
  {
   "cell_type": "code",
   "execution_count": null,
   "metadata": {},
   "outputs": [],
   "source": [
    "plot_histogram( launch(simulateur, circuit))"
   ]
  },
  {
   "cell_type": "markdown",
   "metadata": {},
   "source": [
    "On retrouve bien la supperposition sur un des bits et le Not sur le second bit.<br>\n",
    "Les valeurs possibles sont donc une superposition equiprobable entre 01 et 11 (l'ordre des bits est inversé dans le résultat).<br>\n",
    "Si on exécute le calculs plusieurs fois la répartition change mais reste toujours dans l'ordre 50-50."
   ]
  },
  {
   "cell_type": "markdown",
   "metadata": {},
   "source": [
    "### Essayons maintenant sur un ***véritable ordinateur quantique***"
   ]
  },
  {
   "cell_type": "code",
   "execution_count": null,
   "metadata": {},
   "outputs": [],
   "source": [
    "from qiskit_ibm_runtime import QiskitRuntimeService\n",
    "import os\n",
    "\n",
    "service = QiskitRuntimeService(channel='ibm_quantum', token=os.getenv('IBM_API_KEY'), verify=False)\n",
    "qpu = service.least_busy(simulator=False, operational=True)\n",
    "\n",
    "print(\"Calculateur sélectionne : {}({} Qubits)\".format(qpu.name, qpu.num_qubits))"
   ]
  },
  {
   "cell_type": "code",
   "execution_count": null,
   "metadata": {},
   "outputs": [],
   "source": [
    "plot_histogram( launch(qpu, circuit))"
   ]
  },
  {
   "cell_type": "markdown",
   "metadata": {},
   "source": [
    "Par defaut le calculateur effectue 4096 ittérations.<br>\n",
    "On retrouve la répartition homogène des résultats sur les valeurs 01 et 11.<br>\n",
    "\n",
    "On remarque aussi l'apparition de quelques résultats avec les valeurs 00 et 10 que l'algorithme ne permet pas, ce sont les erreurs résultantes de \"l'imperfection\" des qubits."
   ]
  }
 ],
 "metadata": {
  "kernelspec": {
   "display_name": ".venv",
   "language": "python",
   "name": "python3"
  },
  "language_info": {
   "codemirror_mode": {
    "name": "ipython",
    "version": 3
   },
   "file_extension": ".py",
   "mimetype": "text/x-python",
   "name": "python",
   "nbconvert_exporter": "python",
   "pygments_lexer": "ipython3",
   "version": "3.13.3"
  }
 },
 "nbformat": 4,
 "nbformat_minor": 2
}
